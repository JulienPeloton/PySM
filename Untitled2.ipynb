{
 "cells": [
  {
   "cell_type": "code",
   "execution_count": 8,
   "metadata": {
    "collapsed": false
   },
   "outputs": [],
   "source": [
    "import healpy as hp\n",
    "import numpy as np\n",
    "from scipy.optimize import minimize\n",
    "import scipy.constants as const\n",
    "from pysm import read_map_wrapped\n",
    "import matplotlib.pyplot as plt\n",
    "%matplotlib inline\n",
    "\n",
    "def safe_log10(x,minval=0.0000000001):\n",
    "    return np.log10(x.clip(min=minval))\n",
    "\n",
    "def b_l(ell,sigma):\n",
    "    return np.exp(-0.5*ell*(ell+1)*sigma**2)\n",
    "\n",
    "def sigma(fwhm):\n",
    "    return fwhm*(2.*np.pi/(60.*360.))/(np.sqrt(8.*np.log(2.)))\n",
    "\n",
    "def fit_cl_conv(map,l_fit,theta):\n",
    "    cl = hp.anafast(map)\n",
    "    ell = np.arange(cl.size)\n",
    "    coeffs = np.polyfit(safe_log10(ell[l_fit[0]:l_fit[1]]),safe_log10(cl[l_fit[0]:l_fit[1]]),1)\n",
    "    cl_pl = np.power(10,coeffs[1])*np.power(ell,coeffs[0])\n",
    "    print('Coefficients of power law fit:', coeffs)\n",
    "    return cl_pl*(1-b_l(ell,sigma(theta*60.)))**2\n",
    "\n",
    "def local_mean(m,pix,radius): #radius is in radians\n",
    "    nside= hp.get_nside(m)\n",
    "    pos = hp.pix2vec(nside,pix)\n",
    "    inds = hp.query_disc(nside,pos,radius)\n",
    "    disc_mean = np.mean(m[inds])\n",
    "    return disc_mean\n",
    "\n",
    "def mod_gaussian_model(gamma,n):\n",
    "    ss = n[1]*(np.abs(n[0])**gamma)\n",
    "    return ss\n",
    "\n",
    "def lognormal_model(gamma,n):\n",
    "    x = n[1]**gamma*n[2]-0.5*n[3]\n",
    "    return n[0]*(np.exp(x)-1.)\n",
    "\n",
    "def quadrature_model(gamma,n):\n",
    "    return n[0]*gamma*n[1]**gamma\n",
    "\n",
    "def quadrature_ss_map(map_in,nside_o,l_fit,pl_fit,theta):\n",
    "    m_0 = np.mean(map_in);npix=map_in.size\n",
    "    d_ss = (map_in-m_0)/m_0\n",
    "    print('Fitting power law.')\n",
    "    cl_pl = 0.5*fit_cl_conv(d_ss,l_fit,theta)\n",
    "\n",
    "    #Generate from cl/2.\n",
    "    d_g1 = hp.synfast(cl_pl[1:],nside=nside_o,verbose=False,new=True)\n",
    "    d_g2 = hp.synfast(cl_pl[1:],nside=nside_o,verbose=False,new=True)\n",
    "    \n",
    "    cl_1 = hp.anafast(d_g1)\n",
    "    cl_2 = hp.anafast(d_g2)\n",
    "\n",
    "    i = np.sqrt(d_g1**2+d_g2**2)\n",
    "    n = m_0*i\n",
    "\n",
    "    t = hp.anafast(np.sqrt(d_g1**2))\n",
    "    print t\n",
    "    cl_i = hp.anafast(i)\n",
    "\n",
    "    plt.figure()\n",
    "    plt.xscale('log');plt.yscale('log')\n",
    "    plt.plot(cl_pl)\n",
    "    plt.plot(t)\n",
    "#    plt.plot(cl_i)\n",
    "#    plt.plot(cl_1)\n",
    "#    plt.plot(cl_2)\n",
    "    plt.show()\n",
    "\n",
    "    R_mean = np.zeros(npix)\n",
    "    for i in np.arange(npix):\n",
    "            R_mean[i] = local_mean(d_ss,i,(np.pi/180.)*4.)/m_0\n",
    "    parse_args = [R_mean,n]\n",
    "    print('Minimizing chi squared.')\n",
    "    res = minimize(chi_sq,.8,args=(cl_pl,pl_fit,quadrature_model,parse_args),method='Powell')\n",
    "    return m_0*quadrature_model(res.x,parse_args)\n",
    "\n",
    "def chi_sq(gamma,cl_pl,pl_fit,model,model_args):\n",
    "    model_map = model(gamma,model_args)\n",
    "    cl_model = hp.anafast(model_map)\n",
    "    ell = np.arange(cl_model.size)\n",
    "    chi_sq_arg = (cl_model[1:]/cl_pl[1:]-1)**2*(2*ell[1:]+1)/2\n",
    "    print gamma\n",
    "    return np.sum(chi_sq_arg[pl_fit[0]:pl_fit[1]])\n",
    "\n",
    "def mod_gaussian_ss_map(map_in,nside_o,l_fit,pl_fit,theta):\n",
    "    print('Fitting power law.')\n",
    "    cl_pl = fit_cl_conv(map_in,l_fit,theta)\n",
    "    d_g = hp.synfast(cl_pl[1:],nside=nside_o,verbose=False,new=True)\n",
    "    norm = (d_g-np.mean(d_g))/np.sqrt(np.var(d_g))\n",
    "    parse_args = [map_in,norm]\n",
    "    print('Minimizing chi squared at large l.')\n",
    "    res = minimize(chi_sq,0.6,args=(cl_pl,pl_fit,mod_gaussian_model,parse_args),method='Powell')\n",
    "    return mod_gaussian_model(res.x,parse_args)\n",
    "\n",
    "def lognormal_ss_map(map_in,nside_o,l_fit,pl_fit,theta):\n",
    "    m_0 = np.mean(map_in);npix=map_in.size\n",
    "    d_ls = (map_in-m_0)/m_0\n",
    "    print('Fitting power law.')\n",
    "    cl_pl = fit_cl_conv(d_ls,l_fit,theta)\n",
    "    print('Computing local scaling.')\n",
    "    #Local scaling is the average over a radius of 4 degrees c.f. global average.\n",
    "    R_mean = np.zeros(npix)\n",
    "    for i in np.arange(npix):\n",
    "        R_mean[i] = local_mean(map_in,i,(np.pi/180.)*4.)/m_0\n",
    "    #Compute all the model parameters before finding correct gamma.\n",
    "    d_g = hp.synfast(cl_pl[1:],nside=nside_o,new=True)\n",
    "    d_g_var = np.var(d_g)\n",
    "    norm = np.min(map_in)/m_0\n",
    "    parse_args = [norm,R_mean,d_g,d_g_var]\n",
    "    #Now minimize chi sq for the free parameter gamma.\n",
    "    print('Minimizing chi squared')\n",
    "    res = minimize(chi_sq,0.5,args=(cl_pl,pl_fit,lognormal_model,parse_args),method='Powell')\n",
    "    d_ss = lognormal_model(res.x,parse_args)\n",
    "    return m_0*d_ss\n",
    "\n",
    "def generate_ss_map(map_in,nside_o,l_fit,pl_fit,theta,method):\n",
    "    if method=='mod_gaussian': \n",
    "        if not True in list(map_in<0): \n",
    "            print('mod_gaussian is intended for use on polarization maps only.')\n",
    "            exit()\n",
    "        return mod_gaussian_ss_map(map_in,nside_o,l_fit,pl_fit,theta)\n",
    "    \n",
    "    if method=='lognormal': \n",
    "        if True in list(map_in<0):\n",
    "            print('lognormal method intended for use on intensity maps only.')\n",
    "            exit()\n",
    "        return lognormal_ss_map(map_in,nside_o,l_fit,pl_fit,theta)\n",
    "    \n",
    "    if method=='quadrature':\n",
    "        if True in list(map_in<0):\n",
    "            print('quadrature method intended for use on intensity maps only.')\n",
    "            exit()\n",
    "        return quadrature_ss_map(map_in,nside_o,l_fit,pl_fit,theta)\n",
    "\n",
    "\n",
    "\"\"\" \n",
    "OPTIONS:\n",
    "\n",
    "method    : options are 'lognormal' or 'mod_gaussian'.  'lognormal' can be used to generate\n",
    "            intensity map small scales as it ensures that the final map is positive.  \n",
    "            'mod_gaussian' can be used to add small scales to Q and U maps.  \n",
    "\n",
    "nside_in  : nside of input map. \n",
    "nside_out : nside of output map.\n",
    "theta_res : the angular scale (in deg) of the limiting resolution of the input.\n",
    "\n",
    "l_fit     : the multipole range over which the power law is fitted.\n",
    "pl_fit    : range of multipoles over which the chi_sq fits.\n",
    "\n",
    "file_in   : address of input map. Should not be a multiple-map fits file.\n",
    "file_out  : where to put the final map with added small scales.\n",
    "\"\"\"\n",
    "\n",
    "method = 'lognormal'  #options are 'lognormal' for intensity, or 'mod_gaussian' for polarization.\n",
    "\n",
    "nside_in = 256\n",
    "nside_out = 256\n",
    "theta_res = 1.5\n",
    "\n",
    "l_fit = [40.,70.]\n",
    "pl_fit = [400.,600.]\n",
    "\n",
    "#file_in = '/Users/benthorne/Documents/DPhil/PySM/Plots/Data/templates/COM_CompMap_DustPol-commander_1024_R2.00_u.fits'\n",
    "#file_out = '/Users/benthorne/Documents/DPhil/PySM/Plots/Data/templates/COM_CompMap_DustPol-commander_1024_R2.00_u_ss.fits'\n",
    "\n",
    "#file_in = '/Users/benthorne/Documents/DPhil/PySM/Plots/Data/templates/COM_CompMap_DustPol-commander_512_R2.00_q.fits'\n",
    "#file_out = '/Users/benthorne/Documents/DPhil/PySM/Plots/Data/templates/COM_CompMap_DustPol-commander_512_R2.00_q_ss.fits'\n",
    "\n",
    "#file_in = '/Users/benthorne/Documents/DPhil/PySM/PySM/Ancillaries/Synchrotron/mamd2008/haslam408_dsds_Remazeilles2014_8p33_mono_sub.fits'\n",
    "#file_out = '/Users/benthorne/Documents/DPhil/PySM/PySM/Ancillaries/Synchrotron/mamd2008/haslam408_dsds_Remazeilles2014_8p33_mono_sub_ss.fits'\n",
    "\n",
    "#file_in = '/Users/benthorne/Documents/DPhil/PySM/PySM/Ancillaries/ThermalDust/mbb/COM_CompMap_dust-commander_0256_R2.00_I.fits'\n",
    "#file_out = '/Users/benthorne/Documents/DPhil/PySM/PySM/Ancillaries/ThermalDust/mbb/COM_CompMap_dust-commander_0256_R2.00_I_ss.fits'\n",
    "\n",
    "file_in = '/Users/benthorne/Documents/DPhil/PySM/PySM/Ancillaries/ThermalDust/mbb/smoothed_dust_em.fits'\n",
    "file_out = '/Users/benthorne/Documents/DPhil/PySM/PySM/Ancillaries/ThermalDust/mbb/smoothed_dust_em_ss.fits'\n",
    "\n",
    "\n",
    "\n"
   ]
  },
  {
   "cell_type": "code",
   "execution_count": 2,
   "metadata": {
    "collapsed": true
   },
   "outputs": [],
   "source": [
    "map_in = read_map_wrapped(file_in, nside_in, 0)\n",
    "\n",
    "m_0 = np.mean(map_in);npix=map_in.size\n",
    "d_ls = (map_in-m_0)/m_0"
   ]
  },
  {
   "cell_type": "code",
   "execution_count": 3,
   "metadata": {
    "collapsed": false
   },
   "outputs": [
    {
     "name": "stdout",
     "output_type": "stream",
     "text": [
      "Fitting power law.\n",
      "('Coefficients of power law fit:', array([-2.5693848 ,  2.20348059]))\n"
     ]
    },
    {
     "name": "stderr",
     "output_type": "stream",
     "text": [
      "/Users/benthorne/Library/Python/2.7/lib/python/site-packages/ipykernel/__main__.py:21: DeprecationWarning: using a non-integer number instead of an integer will result in an error in the future\n",
      "/Users/benthorne/Library/Python/2.7/lib/python/site-packages/ipykernel/__main__.py:22: RuntimeWarning: divide by zero encountered in power\n",
      "/Users/benthorne/Library/Python/2.7/lib/python/site-packages/ipykernel/__main__.py:24: RuntimeWarning: invalid value encountered in multiply\n"
     ]
    }
   ],
   "source": [
    "print('Fitting power law.')\n",
    "cl_pl = fit_cl_conv(d_ls,l_fit,theta_res)"
   ]
  },
  {
   "cell_type": "code",
   "execution_count": 4,
   "metadata": {
    "collapsed": false
   },
   "outputs": [
    {
     "data": {
      "text/plain": [
       "[<matplotlib.lines.Line2D at 0x109e7e1d0>]"
      ]
     },
     "execution_count": 4,
     "metadata": {},
     "output_type": "execute_result"
    },
    {
     "name": "stderr",
     "output_type": "stream",
     "text": [
      "/Library/Python/2.7/site-packages/matplotlib/scale.py:101: RuntimeWarning: invalid value encountered in less_equal\n",
      "  a[a <= 0.0] = 1e-300\n"
     ]
    },
    {
     "data": {
      "image/png": "[encoded data removed]",
      "text/plain": [
       "<matplotlib.figure.Figure at 0x103a8f890>"
      ]
     },
     "metadata": {},
     "output_type": "display_data"
    }
   ],
   "source": [
    "plt.figure()\n",
    "plt.xscale('log');plt.yscale('log')\n",
    "plt.plot(hp.anafast((map_in-np.mean(map_in))/np.mean(map_in)))\n",
    "plt.plot(cl_pl)"
   ]
  },
  {
   "cell_type": "code",
   "execution_count": 6,
   "metadata": {
    "collapsed": false
   },
   "outputs": [
    {
     "name": "stdout",
     "output_type": "stream",
     "text": [
      "Computing local scaling.\n"
     ]
    }
   ],
   "source": [
    "print('Computing local scaling.')\n",
    "   #Local scaling is the average over a radius of 4 degrees c.f. global average.\n",
    "R_mean = np.zeros(npix)\n",
    "for i in np.arange(npix):\n",
    "    R_mean[i] = local_mean(map_in,i,(np.pi/180.)*4.)/m_0\n",
    "    #Compute all the model parameters before finding correct gamma.\n",
    "    "
   ]
  },
  {
   "cell_type": "code",
   "execution_count": 7,
   "metadata": {
    "collapsed": false
   },
   "outputs": [
    {
     "name": "stdout",
     "output_type": "stream",
     "text": [
      "[ 0.03805368  0.03786684  0.03856622 ...,  0.04984325  0.05048225\n",
      "  0.05024473]\n"
     ]
    }
   ],
   "source": [
    "print R_mean"
   ]
  },
  {
   "cell_type": "code",
   "execution_count": null,
   "metadata": {
    "collapsed": false
   },
   "outputs": [
    {
     "name": "stdout",
     "output_type": "stream",
     "text": [
      "Sigma is 0.000000 arcmin (0.000000 rad) \n",
      "-> fwhm is 0.000000 arcmin\n",
      "Minimizing chi squared\n",
      "[ 0.5]\n",
      "[ 0.5]\n",
      "[ 1.5]"
     ]
    },
    {
     "name": "stderr",
     "output_type": "stream",
     "text": [
      "/Users/benthorne/Library/Python/2.7/lib/python/site-packages/ipykernel/__main__.py:87: DeprecationWarning: using a non-integer number instead of an integer will result in an error in the future\n",
      "/Users/benthorne/Library/Python/2.7/lib/python/site-packages/ipykernel/__main__.py:85: RuntimeWarning: overflow encountered in square\n"
     ]
    },
    {
     "name": "stdout",
     "output_type": "stream",
     "text": [
      "\n",
      "[-1.118034]\n",
      "[ 0.5]\n",
      "[-0.11803397]\n",
      "[-0.49999998]\n",
      "[ 0.19098301]\n",
      "[ 0.03647452]\n",
      "[-0.263932]\n",
      "[-0.05901698]\n",
      "[-0.17376206]\n",
      "[-0.20820391]\n",
      "[-0.15247583]\n",
      "[-0.18691768]\n",
      "[-0.1950483]\n",
      "[-0.87383536]"
     ]
    }
   ],
   "source": [
    "d_g = hp.synfast(cl_pl[1:],nside=nside_out,new=True)\n",
    "d_g_var = np.var(d_g)\n",
    "norm = np.min(map_in)/m_0\n",
    "parse_args = [norm,R_mean,d_g,d_g_var]\n",
    "    #Now minimize chi sq for the free parameter gamma.\n",
    "print('Minimizing chi squared')\n",
    "res = minimize(chi_sq,0.5,args=(cl_pl,pl_fit,lognormal_model,parse_args),method='Powell')\n",
    "d_ss = lognormal_model(res.x,parse_args)\n",
    "f = m_0*d_ss"
   ]
  },
  {
   "cell_type": "code",
   "execution_count": null,
   "metadata": {
    "collapsed": true
   },
   "outputs": [],
   "source": [
    "cl = hp.anafast(map_in)\n",
    "cl1 = hp.anafast(map_in+map_ss)"
   ]
  },
  {
   "cell_type": "code",
   "execution_count": null,
   "metadata": {
    "collapsed": true
   },
   "outputs": [],
   "source": [
    "plt.figure()\n",
    "plt.xscale('log');plt.yscale('log')\n",
    "plt.plot(cl)\n",
    "plt.plot(cl1)\n",
    "plt.show()"
   ]
  },
  {
   "cell_type": "code",
   "execution_count": null,
   "metadata": {
    "collapsed": true
   },
   "outputs": [],
   "source": [
    "hp.mollview(map_in)\n",
    "hp.mollview(map_in+map_ss)\n",
    "\n",
    "print('Writing new small scale map to '+file_out)\n",
    "\n",
    "hp.write_map(file_out,map_in+map_ss)"
   ]
  },
  {
   "cell_type": "code",
   "execution_count": null,
   "metadata": {
    "collapsed": true
   },
   "outputs": [],
   "source": []
  }
 ],
 "metadata": {
  "kernelspec": {
   "display_name": "Python 2",
   "language": "python",
   "name": "python2"
  },
  "language_info": {
   "codemirror_mode": {
    "name": "ipython",
    "version": 2
   },
   "file_extension": ".py",
   "mimetype": "text/x-python",
   "name": "python",
   "nbconvert_exporter": "python",
   "pygments_lexer": "ipython2",
   "version": "2.7.10"
  }
 },
 "nbformat": 4,
 "nbformat_minor": 0
}
