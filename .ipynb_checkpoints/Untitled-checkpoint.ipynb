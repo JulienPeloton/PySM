{
 "cells": [
  {
   "cell_type": "code",
   "execution_count": null,
   "metadata": {
    "collapsed": true
   },
   "outputs": [],
   "source": [
    "import healpy as hp\n",
    "import numpy as np\n",
    "from scipy.optimize import minimize\n",
    "import scipy.constants as const\n",
    "from pysm import read_map_wrapped\n",
    "\n",
    "\n",
    "def safe_log10(x,minval=0.0000000001):\n",
    "    return np.log10(x.clip(min=minval))\n",
    "\n",
    "def b_l(ell,sigma):\n",
    "    return np.exp(-0.5*ell*(ell+1)*sigma**2)\n",
    "\n",
    "def sigma(fwhm):\n",
    "    return fwhm*(2.*np.pi/(60.*360.))/(np.sqrt(8.*np.log(2.)))\n",
    "\n",
    "def fit_cl_conv(map,l_fit,theta):\n",
    "    cl = hp.anafast(map)\n",
    "    ell = np.arange(cl.size)\n",
    "    coeffs = np.polyfit(safe_log10(ell[l_fit[0]:l_fit[1]]),safe_log10(cl[l_fit[0]:l_fit[1]]),1)\n",
    "    cl_pl = np.power(10,coeffs[1])*np.power(ell,coeffs[0])\n",
    "    print('Coefficients of power law fit:', coeffs)\n",
    "    return cl_pl*(1-b_l(ell,sigma(theta*60.))**2)\n",
    "\n",
    "def local_mean(m,pix,radius): #radius is in radians\n",
    "    nside= hp.get_nside(m)\n",
    "    pos = hp.pix2vec(nside,pix)\n",
    "    inds = hp.query_disc(nside,pos,radius)\n",
    "    disc_mean = np.mean(m[inds])\n",
    "    return disc_mean\n",
    "\n",
    "def mod_gaussian_model(gamma,cl_pl,map_in,nside_o):\n",
    "    g = hp.synfast(cl_pl[1:],nside=nside_o,verbose=False,new=True)\n",
    "    ss = (g-np.mean(g))/np.sqrt(np.var(g))*(np.abs(map_in)**gamma)\n",
    "    return ss\n",
    "\n",
    "def lognormal_model(gamma,map_in,m_0,R_mean,d_g,d_g_var):\n",
    "    norm = np.min(map_in)/m_0\n",
    "    x = (R_mean**gamma/np.mean(R_mean**gamma))*d_g-0.5*d_g_var\n",
    "    return norm*(np.exp(x)-1.)\n",
    "\n",
    "def chi_sq(gamma,map_in,cl_pl,pl_fit,nside_o,model,m_0=None,R_mean=None,d_g=None,d_g_var=None):\n",
    "    if model == 'mod_gaussian': \n",
    "        model = mod_gaussian_model(gamma,cl_pl,map_in,nside_o)\n",
    "    if model == 'lognormal':\n",
    "        model = lognormal_model(gamma,map_in,m_0,R_mean,d_g,d_g_var)\n",
    "    print gamma\n",
    "    cl_model = hp.anafast(model)\n",
    "    ell = np.arange(cl_model.size)\n",
    "    chi_sq_arg = (cl_model[1:]/cl_pl[1:]-1)**2*(2*ell[1:]+1)/2\n",
    "    return np.sum(chi_sq_arg[pl_fit[0]:pl_fit[1]])\n",
    "\n",
    "def mod_gaussian_ss_map(map_in,nside_o,l_fit,pl_fit,theta):\n",
    "    print('Fitting power law.')\n",
    "    cl_pl = fit_cl_conv(map_in,l_fit,theta)\n",
    "    print('Minimizing chi squared at large l.')\n",
    "    res = minimize(chi_sq,1.3,args=(map_in,cl_pl,pl_fit,nside_o,'mod_gaussian'),method='Powell')\n",
    "    return mod_gaussian_model(res.x,cl_pl,map_in,nside_o)\n",
    "\n",
    "def lognormal_ss_map(map_in,nside_o,l_fit,pl_fit,theta):\n",
    "    m_0 = np.mean(map_in);npix=map_in.size\n",
    "    d_ls = (map_in-m_0)/m_0\n",
    "    print('Fitting power law.')\n",
    "    cl_pl = fit_cl_conv(d_ls,l_fit,theta)\n",
    "    print('Computing local scaling.')\n",
    "    R_mean = np.zeros(npix)\n",
    "    for i in np.arange(npix):\n",
    "        R_mean[i] = local_mean(map_in,i,(np.pi/180.)*4.)/m_0\n",
    "    print('Minimizing chi squared.')\n",
    "    d_g = hp.synfast(cl_pl[1:],nside=nside_o,new=True)\n",
    "    d_g_var = np.var(d_g)\n",
    "    res = minimize(chi_sq,1.,args=(map_in,cl_pl,pl_fit,nside_o,'lognormal',m_0,R_mean,d_g,d_g_var))\n",
    "    d_ss = lognormal_model(res.x,map_in,m_0,R_mean,d_g,d_g_var)\n",
    "    return m_0*d_ss\n",
    "\n",
    "def generate_ss_map(map_in,nside_o,l_fit,pl_fit,theta,method):\n",
    "    if method=='mod_gaussian': return mod_gaussian_ss_map(map_in,nside_o,l_fit,pl_fit,theta)\n",
    "    if method=='lognormal': return lognormal_ss_map(map_in,nside_o,l_fit,pl_fit,theta)\n",
    "\n",
    "\n",
    "\n",
    "\"\"\" \n",
    "OPTIONS:\n",
    "\n",
    "Details of the map to be extended to small scales.  The map will be\n",
    " read in and degraded to the specified nside_in before being used.  Therefore \n",
    "if the template is nside 1024 this must be specified as:\n",
    " \n",
    ">nside_in = 1024\n",
    "\n",
    "The output is generated at nside_out.\n",
    "\n",
    "The other specified information is:\n",
    "\n",
    "l_fit:  the multipole range over which the power law is fitted.\n",
    "theta_res:  the angular scale (in deg) of the limiting resolution of the input.\n",
    "pl_fit: range of multipoles over which the chi_sq fits.\n",
    "\n",
    "\"\"\"\n",
    "\n",
    "method = 'lognormal'  #options are 'lognormal' or 'mod_gaussian'\n",
    "\n",
    "nside_in = 256\n",
    "nside_out = 256\n",
    "\n",
    "l_fit = [50.,100.]\n",
    "pl_fit = [200.,600.]\n",
    "\n",
    "theta_res = 1.   \n",
    "\n",
    "file_in = './Ancillaries/Synchrotron/mamd2008/haslam408_dsds_Remazeilles2014_8p33_mono_sub.fits'\n",
    "file_out = './Ancillaries/Synchrotron/mamd2008/haslam408_dsds_Remazeilles2014_8p33_mono_sub_ss.fits'\n"
   ]
  },
  {
   "cell_type": "code",
   "execution_count": null,
   "metadata": {
    "collapsed": false
   },
   "outputs": [],
   "source": [
    "\n",
    "\"\"\"\n",
    "MAIN CODE\n",
    "\"\"\"\n",
    "\n",
    "map_in = read_map_wrapped(file_in, nside_in, 0)\n",
    "map_ss = generate_ss_map(map_in,nside_out,l_fit,pl_fit,theta_res,method)\n",
    "\n",
    "print('Writing new small scale map to '+file_out)\n",
    "\n",
    "hp.write_map(file_out,map_in+map_ss)\n"
   ]
  },
  {
   "cell_type": "code",
   "execution_count": null,
   "metadata": {
    "collapsed": false
   },
   "outputs": [],
   "source": [
    "#cl_out = hp.anafast(map_ss+map_in)"
   ]
  },
  {
   "cell_type": "code",
   "execution_count": null,
   "metadata": {
    "collapsed": false
   },
   "outputs": [],
   "source": [
    "#plt.xscale('log');plt.yscale('log')\n",
    "#plt.plot(hp.anafast(map_in));plt.plot(cl_out)\n",
    "#plt.show()"
   ]
  },
  {
   "cell_type": "code",
   "execution_count": null,
   "metadata": {
    "collapsed": true
   },
   "outputs": [],
   "source": []
  }
 ],
 "metadata": {
  "kernelspec": {
   "display_name": "Python 2",
   "language": "python",
   "name": "python2"
  },
  "language_info": {
   "codemirror_mode": {
    "name": "ipython",
    "version": 2
   },
   "file_extension": ".py",
   "mimetype": "text/x-python",
   "name": "python",
   "nbconvert_exporter": "python",
   "pygments_lexer": "ipython2",
   "version": "2.7.10"
  }
 },
 "nbformat": 4,
 "nbformat_minor": 0
}
