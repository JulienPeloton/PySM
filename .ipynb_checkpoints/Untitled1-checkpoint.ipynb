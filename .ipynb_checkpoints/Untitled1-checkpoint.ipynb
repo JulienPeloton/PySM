{
 "cells": [
  {
   "cell_type": "code",
   "execution_count": 11,
   "metadata": {
    "collapsed": false
   },
   "outputs": [
    {
     "name": "stdout",
     "output_type": "stream",
     "text": [
      "Using matplotlib backend: MacOSX\n",
      "Populating the interactive namespace from numpy and matplotlib\n"
     ]
    }
   ],
   "source": [
    "import healpy as hp\n",
    "import numpy as np\n",
    "from scipy.optimize import minimize\n",
    "import scipy.constants as const\n",
    "from pysm import read_map_wrapped\n",
    "import matplotlib.pyplot as plt\n",
    "\n",
    "%pylab\n",
    "%matplotlib inline\n",
    "\n",
    "def safe_log10(x,minval=0.0000000001):\n",
    "    return np.log10(x.clip(min=minval))\n",
    "\n",
    "def b_l(ell,sigma):\n",
    "    return np.exp(-0.5*ell*(ell+1)*sigma**2)\n",
    "\n",
    "def sigma(fwhm):\n",
    "    return fwhm*(2.*np.pi/(60.*360.))/(np.sqrt(8.*np.log(2.)))\n",
    "\n",
    "def fit_cl_conv(map,l_fit,theta):\n",
    "    cl = hp.anafast(map)\n",
    "    ell = np.arange(cl.size)\n",
    "    coeffs = np.polyfit(safe_log10(ell[l_fit[0]:l_fit[1]]),safe_log10(cl[l_fit[0]:l_fit[1]]),1)\n",
    "    cl_pl = np.power(10,coeffs[1])*np.power(ell,coeffs[0])\n",
    "    print('Coefficients of power law fit:', coeffs)\n",
    "    return cl_pl*(1-b_l(ell,sigma(theta*60.)))**2\n",
    "\n",
    "def local_mean(m,pix,radius): #radius is in radians\n",
    "    nside= hp.get_nside(m)\n",
    "    pos = hp.pix2vec(nside,pix)\n",
    "    inds = hp.query_disc(nside,pos,radius)\n",
    "    disc_mean = np.mean(m[inds])\n",
    "    return disc_mean\n",
    "\n",
    "def mod_gaussian_model(gamma,n):\n",
    "    ss = n[1]*(np.abs(n[0])**gamma)\n",
    "    return ss\n",
    "\n",
    "def lognormal_model(gamma,n):\n",
    "    x = n[1]**gamma*n[2]-0.5*n[3]\n",
    "    return n[0]*(np.exp(x)-1.)\n",
    "\n",
    "def quadrature_model(gamma,n):\n",
    "    return n[0]*gamma*n[1]**gamma\n",
    "\n",
    "def quadrature_ss_map(map_in,nside_o,l_fit,pl_fit,theta):\n",
    "    m_0 = np.mean(map_in);npix=map_in.size\n",
    "    d_ss = (map_in-m_0)/m_0\n",
    "    print('Fitting power law.')\n",
    "    cl_pl = 0.5*fit_cl_conv(d_ss,l_fit,theta)\n",
    "\n",
    "    #Generate from cl/2.\n",
    "    d_g1 = hp.synfast(cl_pl[1:],nside=nside_o,verbose=False,new=True)\n",
    "    d_g2 = hp.synfast(cl_pl[1:],nside=nside_o,verbose=False,new=True)\n",
    "    \n",
    "    cl_1 = hp.anafast(d_g1)\n",
    "    cl_2 = hp.anafast(d_g2)\n",
    "\n",
    "    i = np.sqrt(d_g1**2+d_g2**2)\n",
    "    n = m_0*i\n",
    "\n",
    "    t = hp.anafast(np.sqrt(d_g1**2))\n",
    "    print t\n",
    "    cl_i = hp.anafast(i)\n",
    "\n",
    "    plt.figure()\n",
    "    plt.xscale('log');plt.yscale('log')\n",
    "    plt.plot(cl_pl)\n",
    "    plt.plot(t)\n",
    "#    plt.plot(cl_i)\n",
    "#    plt.plot(cl_1)\n",
    "#    plt.plot(cl_2)\n",
    "    plt.show()\n",
    "\n",
    "    R_mean = np.zeros(npix)\n",
    "    for i in np.arange(npix):\n",
    "            R_mean[i] = local_mean(d_ss,i,(np.pi/180.)*4.)/m_0\n",
    "    parse_args = [R_mean,n]\n",
    "    print('Minimizing chi squared.')\n",
    "    res = minimize(chi_sq,.8,args=(cl_pl,pl_fit,quadrature_model,parse_args),method='Powell')\n",
    "    return m_0*quadrature_model(res.x,parse_args)\n",
    "\n",
    "def chi_sq(gamma,cl_pl,pl_fit,model,model_args):\n",
    "    model_map = model(gamma,model_args)\n",
    "    cl_model = hp.anafast(model_map)\n",
    "    ell = np.arange(cl_model.size)\n",
    "    chi_sq_arg = (cl_model[1:]/cl_pl[1:]-1)**2*(2*ell[1:]+1)/2\n",
    "    print gamma\n",
    "    return np.sum(chi_sq_arg[pl_fit[0]:pl_fit[1]])\n",
    "\n",
    "def mod_gaussian_ss_map(map_in,nside_o,l_fit,pl_fit,theta):\n",
    "    print('Fitting power law.')\n",
    "    cl_pl = fit_cl_conv(map_in,l_fit,theta)\n",
    "    d_g = hp.synfast(cl_pl[1:],nside=nside_o,verbose=False,new=True)\n",
    "    norm = (d_g-np.mean(d_g))/np.sqrt(np.var(d_g))\n",
    "    parse_args = [map_in,norm]\n",
    "    print('Minimizing chi squared at large l.')\n",
    "    res = minimize(chi_sq,0.6,args=(cl_pl,pl_fit,mod_gaussian_model,parse_args),method='Powell')\n",
    "    return mod_gaussian_model(res.x,parse_args)\n",
    "\n",
    "def lognormal_ss_map(map_in,nside_o,l_fit,pl_fit,theta):\n",
    "    m_0 = np.mean(map_in);npix=map_in.size\n",
    "    d_ls = (map_in-m_0)/m_0\n",
    "    print('Fitting power law.')\n",
    "    cl_pl = fit_cl_conv(d_ls,l_fit,theta)\n",
    "    print('Computing local scaling.')\n",
    "    #Local scaling is the average over a radius of 4 degrees c.f. global average.\n",
    "    R_mean = np.zeros(npix)\n",
    "    for i in np.arange(npix):\n",
    "        R_mean[i] = local_mean(map_in,i,(np.pi/180.)*4.)/m_0\n",
    "    #Compute all the model parameters before finding correct gamma.\n",
    "    d_g = hp.synfast(cl_pl[1:],nside=nside_o,new=True)\n",
    "    d_g_var = np.var(d_g)\n",
    "    norm = np.min(map_in)/m_0\n",
    "    parse_args = [norm,R_mean,d_g,d_g_var]\n",
    "    #Now minimize chi sq for the free parameter gamma.\n",
    "    print('Minimizing chi squared')\n",
    "    res = minimize(chi_sq,1.3,args=(cl_pl,pl_fit,lognormal_model,parse_args),method='Powell')\n",
    "    d_ss = lognormal_model(res.x,parse_args)\n",
    "    return m_0*d_ss\n",
    "\n",
    "def generate_ss_map(map_in,nside_o,l_fit,pl_fit,theta,method):\n",
    "    if method=='mod_gaussian': \n",
    "        if not True in list(map_in<0): \n",
    "            print('mod_gaussian is intended for use on polarization maps only.')\n",
    "            exit()\n",
    "        return mod_gaussian_ss_map(map_in,nside_o,l_fit,pl_fit,theta)\n",
    "    \n",
    "    if method=='lognormal': \n",
    "        if True in list(map_in<0):\n",
    "            print('lognormal method intended for use on intensity maps only.')\n",
    "            exit()\n",
    "        return lognormal_ss_map(map_in,nside_o,l_fit,pl_fit,theta)\n",
    "    \n",
    "    if method=='quadrature':\n",
    "        if True in list(map_in<0):\n",
    "            print('quadrature method intended for use on intensity maps only.')\n",
    "            exit()\n",
    "        return quadrature_ss_map(map_in,nside_o,l_fit,pl_fit,theta)\n"
   ]
  },
  {
   "cell_type": "code",
   "execution_count": 2,
   "metadata": {
    "collapsed": true
   },
   "outputs": [],
   "source": [
    "\n",
    "method = 'lognormal'  #options are 'lognormal' for intensity, or 'mod_gaussian' for polarization.\n",
    "\n",
    "nside_in = 256\n",
    "nside_out = 256\n",
    "theta_res = 1.\n",
    "\n",
    "l_fit = [20.,80.]\n",
    "pl_fit = [300.,600.]\n",
    "\n",
    "#file_in = '/Users/benthorne/Documents/DPhil/PySM/Plots/Data/templates/COM_CompMap_DustPol-commander_1024_R2.00_u.fits'\n",
    "#file_out = '/Users/benthorne/Documents/DPhil/PySM/Plots/Data/templates/COM_CompMap_DustPol-commander_1024_R2.00_u_ss.fits'\n",
    "\n",
    "#file_in = '/Users/benthorne/Documents/DPhil/PySM/PySM/Ancillaries/Synchrotron/mamd2008/haslam408_dsds_Remazeilles2014_8p33_mono_sub.fits'\n",
    "#file_out = '/Users/benthorne/Documents/DPhil/PySM/PySM/Ancillaries/Synchrotron/mamd2008/haslam408_dsds_Remazeilles2014_8p33_mono_sub_ss.fits'\n",
    "\n",
    "file_in = '/Users/benthorne/Documents/DPhil/PySM/PySM/Ancillaries/ThermalDust/mbb/smoothed_dust_em.fits'\n",
    "file_out = '/Users/benthorne/Documents/DPhil/PySM/PySM/Ancillaries/ThermalDust/mbb/smoothed_dust_em_ss.fits'\n",
    "\n",
    "\"\"\"\n",
    "MAIN CODE\n",
    "\"\"\"\n",
    "\n",
    "map_in = read_map_wrapped(file_in, nside_in, 0)"
   ]
  },
  {
   "cell_type": "code",
   "execution_count": 3,
   "metadata": {
    "collapsed": true
   },
   "outputs": [],
   "source": [
    "m_0 = np.mean(map_in);npix=map_in.size\n",
    "d_ls = (map_in-m_0)/m_0"
   ]
  },
  {
   "cell_type": "code",
   "execution_count": 4,
   "metadata": {
    "collapsed": false
   },
   "outputs": [
    {
     "name": "stdout",
     "output_type": "stream",
     "text": [
      "('Coefficients of power law fit:', array([-2.30924614,  1.73303545]))\n"
     ]
    },
    {
     "name": "stderr",
     "output_type": "stream",
     "text": [
      "/Users/benthorne/Library/Python/2.7/lib/python/site-packages/ipykernel/__main__.py:20: DeprecationWarning: using a non-integer number instead of an integer will result in an error in the future\n",
      "/Users/benthorne/Library/Python/2.7/lib/python/site-packages/ipykernel/__main__.py:21: RuntimeWarning: divide by zero encountered in power\n",
      "/Users/benthorne/Library/Python/2.7/lib/python/site-packages/ipykernel/__main__.py:23: RuntimeWarning: invalid value encountered in multiply\n"
     ]
    }
   ],
   "source": [
    "cl_pl = fit_cl_conv(d_ls,l_fit,theta_res)"
   ]
  },
  {
   "cell_type": "code",
   "execution_count": 6,
   "metadata": {
    "collapsed": false
   },
   "outputs": [],
   "source": [
    "R_mean = np.zeros(npix)\n",
    "for i in np.arange(npix):\n",
    "    R_mean[i] = local_mean(map_in,i,(np.pi/180.)*4.)/m_0"
   ]
  },
  {
   "cell_type": "code",
   "execution_count": 8,
   "metadata": {
    "collapsed": false
   },
   "outputs": [
    {
     "name": "stdout",
     "output_type": "stream",
     "text": [
      "Sigma is 0.000000 arcmin (0.000000 rad) \n",
      "-> fwhm is 0.000000 arcmin\n"
     ]
    }
   ],
   "source": [
    "d_g = hp.synfast(cl_pl[1:],nside=nside_out,new=True)"
   ]
  },
  {
   "cell_type": "code",
   "execution_count": 9,
   "metadata": {
    "collapsed": true
   },
   "outputs": [],
   "source": [
    "w_g = (d_g-np.mean(d_g))/np.sqrt(np.var(d_g))\n",
    "cl_w = hp.anafast(w_g)"
   ]
  },
  {
   "cell_type": "code",
   "execution_count": null,
   "metadata": {
    "collapsed": false
   },
   "outputs": [],
   "source": [
    "figure()\n",
    "xscale('log')\n",
    "yscale('log')\n",
    "plot(cl_w)"
   ]
  },
  {
   "cell_type": "code",
   "execution_count": null,
   "metadata": {
    "collapsed": true
   },
   "outputs": [],
   "source": []
  }
 ],
 "metadata": {
  "kernelspec": {
   "display_name": "Python 2",
   "language": "python",
   "name": "python2"
  },
  "language_info": {
   "codemirror_mode": {
    "name": "ipython",
    "version": 2
   },
   "file_extension": ".py",
   "mimetype": "text/x-python",
   "name": "python",
   "nbconvert_exporter": "python",
   "pygments_lexer": "ipython2",
   "version": "2.7.10"
  }
 },
 "nbformat": 4,
 "nbformat_minor": 0
}
